{
 "cells": [
  {
   "cell_type": "code",
   "execution_count": 159,
   "id": "cb93064b-36e1-4681-9a36-0a28337152d4",
   "metadata": {},
   "outputs": [],
   "source": [
    "import numpy as np\n",
    "import pandas as pd\n",
    "\n",
    "import mordred\n",
    "from rdkit import Chem\n",
    "from mordred import Calculator, descriptors\n",
    "from sklearn.ensemble import RandomForestRegressor\n",
    "from sklearn.model_selection import train_test_split\n",
    "from sklearn.preprocessing import StandardScaler\n",
    "from sklearn.metrics import r2_score, mean_squared_error\n",
    "import matplotlib.pyplot as plt"
   ]
  },
  {
   "cell_type": "code",
   "execution_count": 160,
   "id": "00b514f6-9a4c-47c5-8b80-0ac441f71365",
   "metadata": {},
   "outputs": [],
   "source": [
    "# downlX=ad data from https://moleculenet.org/datasets-1\n",
    "lipo_data = pd.read_csv(\"./Lipophilicity.csv\")"
   ]
  },
  {
   "cell_type": "code",
   "execution_count": 161,
   "id": "e07b7609-24f3-4c78-8024-8a9a8e0f5abd",
   "metadata": {},
   "outputs": [
    {
     "data": {
      "text/html": [
       "<div>\n",
       "<style scoped>\n",
       "    .dataframe tbody tr th:only-of-type {\n",
       "        vertical-align: middle;\n",
       "    }\n",
       "\n",
       "    .dataframe tbody tr th {\n",
       "        vertical-align: top;\n",
       "    }\n",
       "\n",
       "    .dataframe thead th {\n",
       "        text-align: right;\n",
       "    }\n",
       "</style>\n",
       "<table border=\"1\" class=\"dataframe\">\n",
       "  <thead>\n",
       "    <tr style=\"text-align: right;\">\n",
       "      <th></th>\n",
       "      <th>CMPD_CHEMBLID</th>\n",
       "      <th>exp</th>\n",
       "      <th>smiles</th>\n",
       "    </tr>\n",
       "  </thead>\n",
       "  <tbody>\n",
       "    <tr>\n",
       "      <th>0</th>\n",
       "      <td>CHEMBL596271</td>\n",
       "      <td>3.54</td>\n",
       "      <td>Cn1c(CN2CCN(CC2)c3ccc(Cl)cc3)nc4ccccc14</td>\n",
       "    </tr>\n",
       "    <tr>\n",
       "      <th>1</th>\n",
       "      <td>CHEMBL1951080</td>\n",
       "      <td>-1.18</td>\n",
       "      <td>COc1cc(OC)c(cc1NC(=O)CSCC(=O)O)S(=O)(=O)N2C(C)...</td>\n",
       "    </tr>\n",
       "    <tr>\n",
       "      <th>2</th>\n",
       "      <td>CHEMBL1771</td>\n",
       "      <td>3.69</td>\n",
       "      <td>COC(=O)[C@@H](N1CCc2sccc2C1)c3ccccc3Cl</td>\n",
       "    </tr>\n",
       "    <tr>\n",
       "      <th>3</th>\n",
       "      <td>CHEMBL234951</td>\n",
       "      <td>3.37</td>\n",
       "      <td>OC[C@H](O)CN1C(=O)C(Cc2ccccc12)NC(=O)c3cc4cc(C...</td>\n",
       "    </tr>\n",
       "    <tr>\n",
       "      <th>4</th>\n",
       "      <td>CHEMBL565079</td>\n",
       "      <td>3.10</td>\n",
       "      <td>Cc1cccc(C[C@H](NC(=O)c2cc(nn2C)C(C)(C)C)C(=O)N...</td>\n",
       "    </tr>\n",
       "  </tbody>\n",
       "</table>\n",
       "</div>"
      ],
      "text/plain": [
       "   CMPD_CHEMBLID   exp                                             smiles\n",
       "0   CHEMBL596271  3.54            Cn1c(CN2CCN(CC2)c3ccc(Cl)cc3)nc4ccccc14\n",
       "1  CHEMBL1951080 -1.18  COc1cc(OC)c(cc1NC(=O)CSCC(=O)O)S(=O)(=O)N2C(C)...\n",
       "2     CHEMBL1771  3.69             COC(=O)[C@@H](N1CCc2sccc2C1)c3ccccc3Cl\n",
       "3   CHEMBL234951  3.37  OC[C@H](O)CN1C(=O)C(Cc2ccccc12)NC(=O)c3cc4cc(C...\n",
       "4   CHEMBL565079  3.10  Cc1cccc(C[C@H](NC(=O)c2cc(nn2C)C(C)(C)C)C(=O)N..."
      ]
     },
     "execution_count": 161,
     "metadata": {},
     "output_type": "execute_result"
    }
   ],
   "source": [
    "lipo_data.head()"
   ]
  },
  {
   "cell_type": "code",
   "execution_count": null,
   "id": "efa428a6-15eb-4e2e-af2e-b61df6a439d5",
   "metadata": {},
   "outputs": [],
   "source": []
  },
  {
   "cell_type": "code",
   "execution_count": 176,
   "id": "a8ab9ac9-28c4-4c3c-bbef-6ad6f13c470e",
   "metadata": {},
   "outputs": [],
   "source": [
    "calc = Calculator(descriptors, ignore_3D=True)\n",
    "mols = [Chem.MolFromSmiles(i) for i in lipo_data.smiles]\n",
    "mol_features = calc.pandas(mols)"
   ]
  },
  {
   "cell_type": "code",
   "execution_count": null,
   "id": "b55b6bc4-89b4-4dbf-b68d-ef55e92c69d6",
   "metadata": {},
   "outputs": [],
   "source": []
  },
  {
   "cell_type": "markdown",
   "id": "960e5846-4f39-490c-84de-c106bcf4f92e",
   "metadata": {},
   "source": [
    "#### Find features with invalid data"
   ]
  },
  {
   "cell_type": "code",
   "execution_count": 175,
   "id": "14ec971e-f720-4e3a-be48-3f2ddf9fce38",
   "metadata": {},
   "outputs": [],
   "source": [
    "# standard scale\n",
    "tmp = sc.fit_transform(mol_features.astype(float))\n",
    "# find the columns that contain NaN values\n",
    "nan_cols = np.where(np.isnan(tmp))[1]\n",
    "nan_col_headers = mol_features.columns[nan_cols]\n",
    "# drop the columns that contain NaN values\n",
    "data = mol_features.drop(nan_col_headers, axis=1)"
   ]
  },
  {
   "cell_type": "code",
   "execution_count": 165,
   "id": "a7d37377-67ec-4c13-84be-90d9f2ef1bca",
   "metadata": {},
   "outputs": [],
   "source": [
    "data.loc[:, 'exp'] = lipo.exp.values"
   ]
  },
  {
   "cell_type": "markdown",
   "id": "928a1304-bf1c-41df-bdd2-d1dfb9b8c068",
   "metadata": {},
   "source": [
    "#### Split into train,val and test sets"
   ]
  },
  {
   "cell_type": "code",
   "execution_count": 166,
   "id": "65346245-28ee-4bb8-b999-bee31f435667",
   "metadata": {},
   "outputs": [],
   "source": [
    "train, test = train_test_split(data, test_size=0.2, random_state=42)\n",
    "test, val = train_test_split(test, test_size=0.5, random_state=42)"
   ]
  },
  {
   "cell_type": "markdown",
   "id": "d4331643-2686-47b6-b1c3-ca6aa5a731f2",
   "metadata": {},
   "source": [
    "#### Seperate features and targets"
   ]
  },
  {
   "cell_type": "code",
   "execution_count": 168,
   "id": "d889f4ae-60ce-4a31-b07f-ab76b8fee13c",
   "metadata": {},
   "outputs": [],
   "source": [
    "# features\n",
    "x_train = train.drop(['exp'], axis=1) # train features\n",
    "x_val = val.drop(['exp'], axis=1) # validation features\n",
    "x_test = test.drop(['exp'], axis=1) # test features\n",
    "# targets\n",
    "y_train = train.exp.values # train targets\n",
    "y_val = val.exp.values # validation targets\n",
    "y_test = test.exp.values # test targets"
   ]
  },
  {
   "cell_type": "markdown",
   "id": "8d186ced-828c-414d-b973-187dfe91eab3",
   "metadata": {},
   "source": [
    "#### Standard scale the features"
   ]
  },
  {
   "cell_type": "code",
   "execution_count": 169,
   "id": "1caa2e03-cac7-4405-a7d1-1f4ce1428121",
   "metadata": {},
   "outputs": [],
   "source": [
    "sc = StandardScaler()\n",
    "x_train = sc.fit_transform(x_train.values)\n",
    "x_val = sc.transform(x_val.values)\n",
    "x_test = sc.transform(x_test.values)"
   ]
  },
  {
   "cell_type": "markdown",
   "id": "8a1b18a6-8136-4587-afc0-d9c973e04c47",
   "metadata": {},
   "source": [
    "#### Define the model"
   ]
  },
  {
   "cell_type": "code",
   "execution_count": 170,
   "id": "cb349ce4-6bce-4f2e-9417-073e0464d51b",
   "metadata": {},
   "outputs": [],
   "source": [
    "rf = RandomForestRegressor(n_estimators=100, random_state=42)"
   ]
  },
  {
   "cell_type": "markdown",
   "id": "1f27ba9b-78e2-40c4-9267-f59e8391bc90",
   "metadata": {},
   "source": [
    "#### Train using the training data"
   ]
  },
  {
   "cell_type": "code",
   "execution_count": 171,
   "id": "165430cc-8a09-4019-a6a4-b41fe992b161",
   "metadata": {},
   "outputs": [
    {
     "data": {
      "text/plain": [
       "RandomForestRegressor(random_state=42)"
      ]
     },
     "execution_count": 171,
     "metadata": {},
     "output_type": "execute_result"
    }
   ],
   "source": [
    "rf.fit(X=x_train, y=y_train)"
   ]
  },
  {
   "cell_type": "markdown",
   "id": "2abf9709-1e5c-4386-bad7-3da43882ff0e",
   "metadata": {},
   "source": [
    "#### Make predictions on the test data"
   ]
  },
  {
   "cell_type": "code",
   "execution_count": 172,
   "id": "ed375e90-97f3-4839-85f4-ac7677410305",
   "metadata": {},
   "outputs": [],
   "source": [
    "test_pred = rf.predict(x_test)"
   ]
  },
  {
   "cell_type": "code",
   "execution_count": 173,
   "id": "9d1bbb3e-34c9-453d-80ee-73e163fe48bb",
   "metadata": {},
   "outputs": [
    {
     "name": "stdout",
     "output_type": "stream",
     "text": [
      "r2 score =  0.6660131200635068\n",
      "rmse = 0.7036231745057606\n"
     ]
    }
   ],
   "source": [
    "r2 = r2_score(y_pred = test_pred, y_true = y_test)\n",
    "rmse = mean_squared_error(y_pred=test_pred, y_true=y_test)**.5\n",
    "print(f'r2 score =  {r2}')\n",
    "print(f'rmse = {rmse}')"
   ]
  },
  {
   "cell_type": "code",
   "execution_count": 174,
   "id": "9d9a7b28-777f-4f23-a5cb-df7d492339f3",
   "metadata": {},
   "outputs": [
    {
     "data": {
      "image/png": "[encoded data removed]",
      "text/plain": [
       "<Figure size 432x288 with 1 Axes>"
      ]
     },
     "metadata": {
      "needs_background": "light"
     },
     "output_type": "display_data"
    }
   ],
   "source": [
    "plt.plot(y_test, test_pred, 'o');\n",
    "plt.plot([-1, 5], [-1,5], 'k--')\n",
    "plt.xticks(fontsize=16, fontweight='bold')\n",
    "plt.yticks(fontsize=16, fontweight='bold')\n",
    "plt.xlabel('True', fontsize=16, fontweight='bold');\n",
    "plt.ylabel('Predicted', fontsize=16, fontweight='bold');\n",
    "plt.tight_layout();\n",
    "plt.savefig('lipo_test.png')"
   ]
  },
  {
   "cell_type": "code",
   "execution_count": null,
   "id": "400c3a65-c8ad-400e-a9f2-b421c4d094a1",
   "metadata": {},
   "outputs": [],
   "source": []
  }
 ],
 "metadata": {
  "kernelspec": {
   "display_name": "genv",
   "language": "python",
   "name": "genv"
  },
  "language_info": {
   "codemirror_mode": {
    "name": "ipython",
    "version": 3
   },
   "file_extension": ".py",
   "mimetype": "text/x-python",
   "name": "python",
   "nbconvert_exporter": "python",
   "pygments_lexer": "ipython3",
   "version": "3.8.13"
  }
 },
 "nbformat": 4,
 "nbformat_minor": 5
}
